{
 "cells": [
  {
   "cell_type": "markdown",
   "metadata": {
    "id": "GgYRxQ65lNhj"
   },
   "source": [
    "# Drug Classification Using KNN"
   ]
  },
  {
   "cell_type": "markdown",
   "metadata": {
    "id": "_r5Iw2LVolMV"
   },
   "source": [
    "## Data Source\n",
    "Dataset Link: [Drug Classification](https://www.kaggle.com/datasets/prathamtripathi/drug-classification)\n",
    "\n",
    "The **Drug Classification** dataset is a collection of data used to determine the type of drug that is appropriate for a patient based on their health characteristics. This dataset consists of features such as age, gender, blood pressure, cholesterol level, and sodium to potassium ratio. This dataset is designed for classification tasks and is particularly useful in medical analysis or the development of machine learning models for personalized medicine."
   ]
  },
  {
   "cell_type": "markdown",
   "metadata": {
    "id": "VXGQzvErk_r1"
   },
   "source": [
    "## Project Scope\n",
    "\n",
    "### Objectives\n",
    "\n",
    "1. **Build a Drug Prediction Model**  \n",
    "Develop a machine learning model to predict the type of medication that is appropriate for patients based on their individual characteristics (such as age, blood pressure, and cholesterol level).\n",
    "2. **Analyze Patient Data**  \n",
    "Understand the relationship patterns between patient attributes (age, blood pressure, cholesterol, etc.) and the type of medication recommended.\n",
    "3. **Drug Administration Optimization**  \n",
    "Help medical professionals determine the most suitable drug type based on the patient profile to improve treatment effectiveness.\n",
    "\n",
    "### Problems to be Solved\n",
    "\n",
    "1. **Personalized Medicine**  \n",
    "How to determine the optimal drug type based on the patient's individual characteristics? Are there any influencing factors in the determination?\n",
    "2. **Diagnosis Efficiency**  \n",
    "Can machine learning models simplify diagnosis and drug recommendations so that manual processes can be minimized?\n",
    "3. **Data Clustering and Patterns**\n",
    "Are there certain significant patterns in the data that link variables such as blood pressure or cholesterol to specific drug preferences?\n",
    "4. **Accurate Classification**  \n",
    "How to ensure proper classification of drug types based on patient attributes to minimize recommendation errors?\n"
   ]
  },
  {
   "cell_type": "markdown",
   "metadata": {
    "id": "Ecm-ryPhlWbR"
   },
   "source": [
    "## Import Library"
   ]
  },
  {
   "cell_type": "code",
   "execution_count": 541,
   "metadata": {
    "executionInfo": {
     "elapsed": 7471,
     "status": "ok",
     "timestamp": 1733149595080,
     "user": {
      "displayName": "Gede Satyamahinsa",
      "userId": "02136924592616545895"
     },
     "user_tz": -420
    },
    "id": "jCXeSUa_in3V"
   },
   "outputs": [],
   "source": [
    "import pandas as pd\n",
    "import numpy as np\n",
    "import matplotlib.pyplot as plt\n",
    "import seaborn as sns\n",
    "import warnings\n",
    "warnings.filterwarnings('ignore')"
   ]
  },
  {
   "cell_type": "markdown",
   "metadata": {
    "id": "ViD1L7MokenS"
   },
   "source": [
    "## Data Understanding"
   ]
  },
  {
   "cell_type": "markdown",
   "metadata": {
    "id": "4MWhw14DqYxP"
   },
   "source": [
    "### Load Dataset"
   ]
  },
  {
   "cell_type": "code",
   "execution_count": 542,
   "metadata": {
    "colab": {
     "base_uri": "https://localhost:8080/",
     "height": 423
    },
    "executionInfo": {
     "elapsed": 823,
     "status": "ok",
     "timestamp": 1733149595894,
     "user": {
      "displayName": "Gede Satyamahinsa",
      "userId": "02136924592616545895"
     },
     "user_tz": -420
    },
    "id": "f6HxVh-plwVQ",
    "outputId": "ce92422b-fa64-4726-f41d-9a95b19369a0"
   },
   "outputs": [
    {
     "data": {
      "text/html": [
       "<div>\n",
       "<style scoped>\n",
       "    .dataframe tbody tr th:only-of-type {\n",
       "        vertical-align: middle;\n",
       "    }\n",
       "\n",
       "    .dataframe tbody tr th {\n",
       "        vertical-align: top;\n",
       "    }\n",
       "\n",
       "    .dataframe thead th {\n",
       "        text-align: right;\n",
       "    }\n",
       "</style>\n",
       "<table border=\"1\" class=\"dataframe\">\n",
       "  <thead>\n",
       "    <tr style=\"text-align: right;\">\n",
       "      <th></th>\n",
       "      <th>Age</th>\n",
       "      <th>Sex</th>\n",
       "      <th>BP</th>\n",
       "      <th>Cholesterol</th>\n",
       "      <th>Na_to_K</th>\n",
       "      <th>Drug</th>\n",
       "    </tr>\n",
       "  </thead>\n",
       "  <tbody>\n",
       "    <tr>\n",
       "      <th>0</th>\n",
       "      <td>23</td>\n",
       "      <td>F</td>\n",
       "      <td>HIGH</td>\n",
       "      <td>HIGH</td>\n",
       "      <td>25.355</td>\n",
       "      <td>DrugY</td>\n",
       "    </tr>\n",
       "    <tr>\n",
       "      <th>1</th>\n",
       "      <td>47</td>\n",
       "      <td>M</td>\n",
       "      <td>LOW</td>\n",
       "      <td>HIGH</td>\n",
       "      <td>13.093</td>\n",
       "      <td>drugC</td>\n",
       "    </tr>\n",
       "    <tr>\n",
       "      <th>2</th>\n",
       "      <td>47</td>\n",
       "      <td>M</td>\n",
       "      <td>LOW</td>\n",
       "      <td>HIGH</td>\n",
       "      <td>10.114</td>\n",
       "      <td>drugC</td>\n",
       "    </tr>\n",
       "    <tr>\n",
       "      <th>3</th>\n",
       "      <td>28</td>\n",
       "      <td>F</td>\n",
       "      <td>NORMAL</td>\n",
       "      <td>HIGH</td>\n",
       "      <td>7.798</td>\n",
       "      <td>drugX</td>\n",
       "    </tr>\n",
       "    <tr>\n",
       "      <th>4</th>\n",
       "      <td>61</td>\n",
       "      <td>F</td>\n",
       "      <td>LOW</td>\n",
       "      <td>HIGH</td>\n",
       "      <td>18.043</td>\n",
       "      <td>DrugY</td>\n",
       "    </tr>\n",
       "    <tr>\n",
       "      <th>...</th>\n",
       "      <td>...</td>\n",
       "      <td>...</td>\n",
       "      <td>...</td>\n",
       "      <td>...</td>\n",
       "      <td>...</td>\n",
       "      <td>...</td>\n",
       "    </tr>\n",
       "    <tr>\n",
       "      <th>195</th>\n",
       "      <td>56</td>\n",
       "      <td>F</td>\n",
       "      <td>LOW</td>\n",
       "      <td>HIGH</td>\n",
       "      <td>11.567</td>\n",
       "      <td>drugC</td>\n",
       "    </tr>\n",
       "    <tr>\n",
       "      <th>196</th>\n",
       "      <td>16</td>\n",
       "      <td>M</td>\n",
       "      <td>LOW</td>\n",
       "      <td>HIGH</td>\n",
       "      <td>12.006</td>\n",
       "      <td>drugC</td>\n",
       "    </tr>\n",
       "    <tr>\n",
       "      <th>197</th>\n",
       "      <td>52</td>\n",
       "      <td>M</td>\n",
       "      <td>NORMAL</td>\n",
       "      <td>HIGH</td>\n",
       "      <td>9.894</td>\n",
       "      <td>drugX</td>\n",
       "    </tr>\n",
       "    <tr>\n",
       "      <th>198</th>\n",
       "      <td>23</td>\n",
       "      <td>M</td>\n",
       "      <td>NORMAL</td>\n",
       "      <td>NORMAL</td>\n",
       "      <td>14.020</td>\n",
       "      <td>drugX</td>\n",
       "    </tr>\n",
       "    <tr>\n",
       "      <th>199</th>\n",
       "      <td>40</td>\n",
       "      <td>F</td>\n",
       "      <td>LOW</td>\n",
       "      <td>NORMAL</td>\n",
       "      <td>11.349</td>\n",
       "      <td>drugX</td>\n",
       "    </tr>\n",
       "  </tbody>\n",
       "</table>\n",
       "<p>200 rows × 6 columns</p>\n",
       "</div>"
      ],
      "text/plain": [
       "     Age Sex      BP Cholesterol  Na_to_K   Drug\n",
       "0     23   F    HIGH        HIGH   25.355  DrugY\n",
       "1     47   M     LOW        HIGH   13.093  drugC\n",
       "2     47   M     LOW        HIGH   10.114  drugC\n",
       "3     28   F  NORMAL        HIGH    7.798  drugX\n",
       "4     61   F     LOW        HIGH   18.043  DrugY\n",
       "..   ...  ..     ...         ...      ...    ...\n",
       "195   56   F     LOW        HIGH   11.567  drugC\n",
       "196   16   M     LOW        HIGH   12.006  drugC\n",
       "197   52   M  NORMAL        HIGH    9.894  drugX\n",
       "198   23   M  NORMAL      NORMAL   14.020  drugX\n",
       "199   40   F     LOW      NORMAL   11.349  drugX\n",
       "\n",
       "[200 rows x 6 columns]"
      ]
     },
     "execution_count": 542,
     "metadata": {},
     "output_type": "execute_result"
    }
   ],
   "source": [
    "df = pd.read_csv('./datasets/drug200.csv')\n",
    "df"
   ]
  },
  {
   "cell_type": "markdown",
   "metadata": {
    "id": "0GV2mIMyoHd5"
   },
   "source": [
    "**Dataset Description**\n",
    "\n",
    "| **Feature** | **Description** |\n",
    "|--------------------------|---------------------------------------------------------------------------------------------|\n",
    "| `Age` | Patient age in years                                                                   |\n",
    "| `Sex` | The gender of the patient (`Male` or `Female`)                                               |\n",
    "| `BP` | The patient's blood pressure level (`High`, `Normal`, or `Low`)                               |\n",
    "| `Cholesterol` | The patient's cholesterol level (`High` or `Normal`)                                          |\n",
    "| `Na_to_K` | The ratio between sodium (Na) and potassium (K) levels in the patient's body                         |\n",
    "| `Drug` | The type of drug recommended for the patient                                              |\n"
   ]
  },
  {
   "cell_type": "markdown",
   "metadata": {
    "id": "v4bPKPqKn0Kg"
   },
   "source": [
    "### Data Assessing"
   ]
  },
  {
   "cell_type": "code",
   "execution_count": 543,
   "metadata": {
    "colab": {
     "base_uri": "https://localhost:8080/"
    },
    "executionInfo": {
     "elapsed": 28,
     "status": "ok",
     "timestamp": 1733149595896,
     "user": {
      "displayName": "Gede Satyamahinsa",
      "userId": "02136924592616545895"
     },
     "user_tz": -420
    },
    "id": "JOSbPzm_qMBn",
    "outputId": "d33aa009-9674-4f7f-bfb7-e9107f41b37f"
   },
   "outputs": [
    {
     "name": "stdout",
     "output_type": "stream",
     "text": [
      "<class 'pandas.core.frame.DataFrame'>\n",
      "RangeIndex: 200 entries, 0 to 199\n",
      "Data columns (total 6 columns):\n",
      " #   Column       Non-Null Count  Dtype  \n",
      "---  ------       --------------  -----  \n",
      " 0   Age          200 non-null    int64  \n",
      " 1   Sex          200 non-null    object \n",
      " 2   BP           200 non-null    object \n",
      " 3   Cholesterol  200 non-null    object \n",
      " 4   Na_to_K      200 non-null    float64\n",
      " 5   Drug         200 non-null    object \n",
      "dtypes: float64(1), int64(1), object(4)\n",
      "memory usage: 9.5+ KB\n"
     ]
    }
   ],
   "source": [
    "df.info()"
   ]
  },
  {
   "cell_type": "markdown",
   "metadata": {
    "id": "vEUrUP3Zryuy"
   },
   "source": [
    "**Implications for Analysis**\n",
    "\n",
    "The dataset's structure and characteristics provide several advantages and considerations for analysis and machine learning model development:\n",
    "\n",
    "1. **Clean Data with No Missing Values**:\n",
    "   - All columns have 200 non-null entries, ensuring no data imputation or missing value handling is required. This simplifies the preprocessing stage, allowing analysts to focus directly on feature engineering and model building.\n",
    "\n",
    "2. **Categorical Columns**:\n",
    "   - The categorical features (`Sex`, `BP`, `Cholesterol`, and `Drug`) represent patient characteristics and the target variable.\n",
    "   - These features will require encoding (e.g., one-hot encoding or label encoding) to be processed by machine learning models.\n",
    "\n",
    "3. **Numerical Columns**:\n",
    "   - The numerical features, `Age` and `Na_to_K`, are ready for analysis but might benefit from scaling or normalization to ensure consistent value ranges.\n",
    "\n",
    "4. **Small Dataset Size**:\n",
    "   - With only 200 entries, the dataset is relatively small, enabling quick exploratory data analysis (EDA) and model training without requiring significant computational resources.\n"
   ]
  },
  {
   "cell_type": "code",
   "execution_count": 544,
   "metadata": {
    "colab": {
     "base_uri": "https://localhost:8080/",
     "height": 394
    },
    "executionInfo": {
     "elapsed": 25,
     "status": "ok",
     "timestamp": 1733149595897,
     "user": {
      "displayName": "Gede Satyamahinsa",
      "userId": "02136924592616545895"
     },
     "user_tz": -420
    },
    "id": "aOe0B84Vqnn9",
    "outputId": "925b305b-5ae4-4925-ba63-9fe32c3e21dd"
   },
   "outputs": [
    {
     "data": {
      "text/html": [
       "<div>\n",
       "<style scoped>\n",
       "    .dataframe tbody tr th:only-of-type {\n",
       "        vertical-align: middle;\n",
       "    }\n",
       "\n",
       "    .dataframe tbody tr th {\n",
       "        vertical-align: top;\n",
       "    }\n",
       "\n",
       "    .dataframe thead th {\n",
       "        text-align: right;\n",
       "    }\n",
       "</style>\n",
       "<table border=\"1\" class=\"dataframe\">\n",
       "  <thead>\n",
       "    <tr style=\"text-align: right;\">\n",
       "      <th></th>\n",
       "      <th>Age</th>\n",
       "      <th>Sex</th>\n",
       "      <th>BP</th>\n",
       "      <th>Cholesterol</th>\n",
       "      <th>Na_to_K</th>\n",
       "      <th>Drug</th>\n",
       "    </tr>\n",
       "  </thead>\n",
       "  <tbody>\n",
       "    <tr>\n",
       "      <th>count</th>\n",
       "      <td>200.000000</td>\n",
       "      <td>200</td>\n",
       "      <td>200</td>\n",
       "      <td>200</td>\n",
       "      <td>200.000000</td>\n",
       "      <td>200</td>\n",
       "    </tr>\n",
       "    <tr>\n",
       "      <th>unique</th>\n",
       "      <td>NaN</td>\n",
       "      <td>2</td>\n",
       "      <td>3</td>\n",
       "      <td>2</td>\n",
       "      <td>NaN</td>\n",
       "      <td>5</td>\n",
       "    </tr>\n",
       "    <tr>\n",
       "      <th>top</th>\n",
       "      <td>NaN</td>\n",
       "      <td>M</td>\n",
       "      <td>HIGH</td>\n",
       "      <td>HIGH</td>\n",
       "      <td>NaN</td>\n",
       "      <td>DrugY</td>\n",
       "    </tr>\n",
       "    <tr>\n",
       "      <th>freq</th>\n",
       "      <td>NaN</td>\n",
       "      <td>104</td>\n",
       "      <td>77</td>\n",
       "      <td>103</td>\n",
       "      <td>NaN</td>\n",
       "      <td>91</td>\n",
       "    </tr>\n",
       "    <tr>\n",
       "      <th>mean</th>\n",
       "      <td>44.315000</td>\n",
       "      <td>NaN</td>\n",
       "      <td>NaN</td>\n",
       "      <td>NaN</td>\n",
       "      <td>16.084485</td>\n",
       "      <td>NaN</td>\n",
       "    </tr>\n",
       "    <tr>\n",
       "      <th>std</th>\n",
       "      <td>16.544315</td>\n",
       "      <td>NaN</td>\n",
       "      <td>NaN</td>\n",
       "      <td>NaN</td>\n",
       "      <td>7.223956</td>\n",
       "      <td>NaN</td>\n",
       "    </tr>\n",
       "    <tr>\n",
       "      <th>min</th>\n",
       "      <td>15.000000</td>\n",
       "      <td>NaN</td>\n",
       "      <td>NaN</td>\n",
       "      <td>NaN</td>\n",
       "      <td>6.269000</td>\n",
       "      <td>NaN</td>\n",
       "    </tr>\n",
       "    <tr>\n",
       "      <th>25%</th>\n",
       "      <td>31.000000</td>\n",
       "      <td>NaN</td>\n",
       "      <td>NaN</td>\n",
       "      <td>NaN</td>\n",
       "      <td>10.445500</td>\n",
       "      <td>NaN</td>\n",
       "    </tr>\n",
       "    <tr>\n",
       "      <th>50%</th>\n",
       "      <td>45.000000</td>\n",
       "      <td>NaN</td>\n",
       "      <td>NaN</td>\n",
       "      <td>NaN</td>\n",
       "      <td>13.936500</td>\n",
       "      <td>NaN</td>\n",
       "    </tr>\n",
       "    <tr>\n",
       "      <th>75%</th>\n",
       "      <td>58.000000</td>\n",
       "      <td>NaN</td>\n",
       "      <td>NaN</td>\n",
       "      <td>NaN</td>\n",
       "      <td>19.380000</td>\n",
       "      <td>NaN</td>\n",
       "    </tr>\n",
       "    <tr>\n",
       "      <th>max</th>\n",
       "      <td>74.000000</td>\n",
       "      <td>NaN</td>\n",
       "      <td>NaN</td>\n",
       "      <td>NaN</td>\n",
       "      <td>38.247000</td>\n",
       "      <td>NaN</td>\n",
       "    </tr>\n",
       "  </tbody>\n",
       "</table>\n",
       "</div>"
      ],
      "text/plain": [
       "               Age  Sex    BP Cholesterol     Na_to_K   Drug\n",
       "count   200.000000  200   200         200  200.000000    200\n",
       "unique         NaN    2     3           2         NaN      5\n",
       "top            NaN    M  HIGH        HIGH         NaN  DrugY\n",
       "freq           NaN  104    77         103         NaN     91\n",
       "mean     44.315000  NaN   NaN         NaN   16.084485    NaN\n",
       "std      16.544315  NaN   NaN         NaN    7.223956    NaN\n",
       "min      15.000000  NaN   NaN         NaN    6.269000    NaN\n",
       "25%      31.000000  NaN   NaN         NaN   10.445500    NaN\n",
       "50%      45.000000  NaN   NaN         NaN   13.936500    NaN\n",
       "75%      58.000000  NaN   NaN         NaN   19.380000    NaN\n",
       "max      74.000000  NaN   NaN         NaN   38.247000    NaN"
      ]
     },
     "execution_count": 544,
     "metadata": {},
     "output_type": "execute_result"
    }
   ],
   "source": [
    "df.describe(include='all')"
   ]
  },
  {
   "cell_type": "markdown",
   "metadata": {
    "id": "5f4tbW5-zG4m"
   },
   "source": [
    "**Key Insights from Descriptive Statistics**\n",
    "\n",
    "1. **`Age` (Patient Age):**\n",
    "   - Age ranges from **15** to **74 years**, with an average of **44 years**.\n",
    "   - The distribution is relatively even, with 50% of patients under **45 years**.\n",
    "   - Standard deviation is **16.54**, indicating moderate variability in the ages of patients.\n",
    "\n",
    "2. **`Na_to_K` (Sodium to Potassium Ratio):**\n",
    "   - Ratio values range from **6.27** to **38.25**, with an average of **16.08**.\n",
    "   - Most patients (75%) have values below **19.38**, suggesting that lower ratios are more common.\n",
    "\n",
    "3. **`Sex` (Gender):**\n",
    "   - The dataset includes both genders with a slight majority of males (`Male`, **104 patients**) compared to females (`Female`, **96 patients**).\n",
    "\n",
    "4. **`BP` (Blood Pressure Levels):**\n",
    "   - There are three categories of blood pressure, with **High** being the most frequent (**77 patients**).\n",
    "\n",
    "5. **`Cholesterol` (Cholesterol Levels):**\n",
    "   - Cholesterol is categorized into two levels, with **High** being the most common (**103 patients**).\n",
    "\n",
    "6. **`Drug` (Target Variable - Drug Type):**\n",
    "   - There are five types of drugs, with **DrugY** being the most recommended drug (**91 patients**).\n"
   ]
  },
  {
   "cell_type": "code",
   "execution_count": 545,
   "metadata": {
    "colab": {
     "base_uri": "https://localhost:8080/",
     "height": 272
    },
    "executionInfo": {
     "elapsed": 23,
     "status": "ok",
     "timestamp": 1733149595897,
     "user": {
      "displayName": "Gede Satyamahinsa",
      "userId": "02136924592616545895"
     },
     "user_tz": -420
    },
    "id": "8VFlcENWsr2X",
    "outputId": "1bff88a0-72ca-4666-88a3-cb788874b1ba"
   },
   "outputs": [
    {
     "data": {
      "text/plain": [
       "Age            0\n",
       "Sex            0\n",
       "BP             0\n",
       "Cholesterol    0\n",
       "Na_to_K        0\n",
       "Drug           0\n",
       "dtype: int64"
      ]
     },
     "execution_count": 545,
     "metadata": {},
     "output_type": "execute_result"
    }
   ],
   "source": [
    "df.isnull().sum()"
   ]
  },
  {
   "cell_type": "markdown",
   "metadata": {
    "id": "E7tfePYF3fKj"
   },
   "source": [
    "The dataset is complete, with no missing values in any column."
   ]
  },
  {
   "cell_type": "code",
   "execution_count": 546,
   "metadata": {
    "colab": {
     "base_uri": "https://localhost:8080/"
    },
    "executionInfo": {
     "elapsed": 22,
     "status": "ok",
     "timestamp": 1733149595898,
     "user": {
      "displayName": "Gede Satyamahinsa",
      "userId": "02136924592616545895"
     },
     "user_tz": -420
    },
    "id": "g1pwej8h1SkN",
    "outputId": "d88451d2-08cd-4a95-c12b-33ad4b3efde4"
   },
   "outputs": [
    {
     "name": "stdout",
     "output_type": "stream",
     "text": [
      "Duplicated Data: 0\n"
     ]
    }
   ],
   "source": [
    "print('Duplicated Data:', df.duplicated().sum())"
   ]
  },
  {
   "cell_type": "markdown",
   "metadata": {
    "id": "jnAoxrjQ3oX8"
   },
   "source": [
    "The dataset also does not have the same row or duplication."
   ]
  },
  {
   "cell_type": "code",
   "execution_count": 547,
   "metadata": {
    "colab": {
     "base_uri": "https://localhost:8080/"
    },
    "executionInfo": {
     "elapsed": 16,
     "status": "ok",
     "timestamp": 1733149595898,
     "user": {
      "displayName": "Gede Satyamahinsa",
      "userId": "02136924592616545895"
     },
     "user_tz": -420
    },
    "id": "qSo_eSmU3UBG",
    "outputId": "cedee49f-c967-4b72-b814-32a744ad21a4"
   },
   "outputs": [
    {
     "name": "stdout",
     "output_type": "stream",
     "text": [
      "Unique Values in Any Column\n",
      "Age: 57\n",
      "Sex: 2\n",
      "BP: 3\n",
      "Cholesterol: 2\n",
      "Na_to_K: 198\n",
      "Drug: 5\n"
     ]
    }
   ],
   "source": [
    "print('Unique Values in Any Column')\n",
    "for column in df.columns:\n",
    "    unique_values = df[column].unique()\n",
    "    print(f\"{column}: {len(unique_values)}\")"
   ]
  },
  {
   "cell_type": "markdown",
   "metadata": {
    "id": "yhBErSU7nk_K"
   },
   "source": [
    "## Exploratory Data Analysis (EDA)"
   ]
  },
  {
   "cell_type": "markdown",
   "metadata": {
    "id": "ksN_bJ1Xn_FS"
   },
   "source": [
    "### Univariate Analysis"
   ]
  },
  {
   "cell_type": "markdown",
   "metadata": {
    "id": "pG6BjjBMoJOo"
   },
   "source": [
    "Age"
   ]
  },
  {
   "cell_type": "code",
   "execution_count": 548,
   "metadata": {
    "colab": {
     "base_uri": "https://localhost:8080/",
     "height": 487
    },
    "executionInfo": {
     "elapsed": 1258,
     "status": "ok",
     "timestamp": 1733149597143,
     "user": {
      "displayName": "Gede Satyamahinsa",
      "userId": "02136924592616545895"
     },
     "user_tz": -420
    },
    "id": "aj7qecE64EAc",
    "outputId": "15837cac-55ab-4799-9f4c-91bc5e8db5c2"
   },
   "outputs": [
    {
     "data": {
      "image/png": "[encoded data removed]",
      "text/plain": [
       "<Figure size 640x480 with 1 Axes>"
      ]
     },
     "metadata": {},
     "output_type": "display_data"
    }
   ],
   "source": [
    "sns.histplot(x='Age', data=df, bins=20, kde=False, color='blue')\n",
    "plt.title('Distribution of Age')\n",
    "plt.xlabel('Age')\n",
    "plt.ylabel('Frequency')\n",
    "plt.grid(True)\n",
    "\n",
    "plt.tight_layout()\n",
    "plt.show()"
   ]
  },
  {
   "cell_type": "markdown",
   "metadata": {
    "id": "j7kW4o7cphe2"
   },
   "source": [
    "The age distribution is relatively uniform and balanced distribution across different age groups. The dataset captures a wide variety of age groups, making it suitable for generalizable analysis. The age groups around **50 years old** appear to be the most frequent. The representation of both younger and older patients allows for the exploration of potential patterns or trends in drug recommendations across different age groups."
   ]
  },
  {
   "cell_type": "markdown",
   "metadata": {
    "id": "f9a96GQKrGMw"
   },
   "source": [
    "Sex"
   ]
  },
  {
   "cell_type": "code",
   "execution_count": 549,
   "metadata": {
    "colab": {
     "base_uri": "https://localhost:8080/",
     "height": 487
    },
    "executionInfo": {
     "elapsed": 642,
     "status": "ok",
     "timestamp": 1733149597779,
     "user": {
      "displayName": "Gede Satyamahinsa",
      "userId": "02136924592616545895"
     },
     "user_tz": -420
    },
    "id": "_qMulu7OoaLR",
    "outputId": "f2f3ffe0-cc87-4518-8eb1-9768467ce4b1"
   },
   "outputs": [
    {
     "data": {
      "image/png": "[encoded data removed]",
      "text/plain": [
       "<Figure size 640x480 with 1 Axes>"
      ]
     },
     "metadata": {},
     "output_type": "display_data"
    }
   ],
   "source": [
    "sns.countplot(x='Sex', data=df, order=df['Sex'].value_counts().index, color='blue')\n",
    "plt.title('Distribution of Gender')\n",
    "plt.xlabel('Gender (F = Female and M = Male)')\n",
    "plt.ylabel('Count')\n",
    "\n",
    "plt.tight_layout()\n",
    "plt.show()"
   ]
  },
  {
   "cell_type": "markdown",
   "metadata": {
    "id": "pIGMdFIhtzpw"
   },
   "source": [
    "The diagram above represents a nearly balanced distribution of genders, with a slightly higher proportion of **male** patients. This balance ensures that gender-based analyses and predictions are unbiased and generalizable across both male and female populations."
   ]
  },
  {
   "cell_type": "markdown",
   "metadata": {
    "id": "yDo3ViDfuWvM"
   },
   "source": [
    "BP (Blood Pressure)"
   ]
  },
  {
   "cell_type": "code",
   "execution_count": 550,
   "metadata": {
    "colab": {
     "base_uri": "https://localhost:8080/",
     "height": 487
    },
    "executionInfo": {
     "elapsed": 1304,
     "status": "ok",
     "timestamp": 1733149599077,
     "user": {
      "displayName": "Gede Satyamahinsa",
      "userId": "02136924592616545895"
     },
     "user_tz": -420
    },
    "id": "vAmiYsVhrQqk",
    "outputId": "d6f67e10-4257-42a0-dc2b-bba21c493657"
   },
   "outputs": [
    {
     "data": {
      "image/png": "[encoded data removed]",
      "text/plain": [
       "<Figure size 640x480 with 1 Axes>"
      ]
     },
     "metadata": {},
     "output_type": "display_data"
    }
   ],
   "source": [
    "sns.countplot(x='BP', data=df, order=df['BP'].value_counts().index, color='blue')\n",
    "plt.title('Distribution of Blood Pressure Levels')\n",
    "plt.xlabel('Blood Pressure Level')\n",
    "plt.ylabel('Count')\n",
    "\n",
    "plt.tight_layout()\n",
    "plt.show()"
   ]
  },
  {
   "cell_type": "markdown",
   "metadata": {
    "id": "x_NpMM_era8F"
   },
   "source": [
    "The majority of patients in the dataset have **high blood pressure**, followed by those with **low blood pressure**. **Normal blood pressure** almost has the same value as the previous 2 values, which could be relevant for analyzing drug recommendations and health trends related to hypertension. This distribution suggests that high blood pressure might be a common health condition in the study's population."
   ]
  },
  {
   "cell_type": "markdown",
   "metadata": {
    "id": "xjbTpAT6vKjv"
   },
   "source": [
    "Cholesterol"
   ]
  },
  {
   "cell_type": "code",
   "execution_count": 551,
   "metadata": {
    "colab": {
     "base_uri": "https://localhost:8080/",
     "height": 487
    },
    "executionInfo": {
     "elapsed": 742,
     "status": "ok",
     "timestamp": 1733149599808,
     "user": {
      "displayName": "Gede Satyamahinsa",
      "userId": "02136924592616545895"
     },
     "user_tz": -420
    },
    "id": "e6OWoATwueqn",
    "outputId": "3be4c8bc-527d-4bb6-f5ff-de081853f7fa"
   },
   "outputs": [
    {
     "data": {
      "image/png": "[encoded data removed]",
      "text/plain": [
       "<Figure size 640x480 with 1 Axes>"
      ]
     },
     "metadata": {},
     "output_type": "display_data"
    }
   ],
   "source": [
    "sns.countplot(x='Cholesterol', data=df, order=df['Cholesterol'].value_counts().index, color='blue')\n",
    "plt.title('Distribution of Cholesterol Levels')\n",
    "plt.xlabel('Cholesterol Level')\n",
    "plt.ylabel('Count')\n",
    "\n",
    "plt.tight_layout()\n",
    "plt.show()"
   ]
  },
  {
   "cell_type": "markdown",
   "metadata": {
    "id": "V1_h9vjesTti"
   },
   "source": [
    "The diagram indicates a higher prevalence of patients with **high cholesterol**, which may be important for analyzing medication prescriptions or identifying patterns related to cholesterol management. The relatively balanced distribution between **high** and **normal** cholesterol levels makes the dataset suitable for exploring potential correlations between cholesterol and drug recommendations."
   ]
  },
  {
   "cell_type": "markdown",
   "metadata": {
    "id": "Ql7b59qmvRMi"
   },
   "source": [
    "Na_to_K"
   ]
  },
  {
   "cell_type": "code",
   "execution_count": 552,
   "metadata": {
    "colab": {
     "base_uri": "https://localhost:8080/",
     "height": 487
    },
    "executionInfo": {
     "elapsed": 762,
     "status": "ok",
     "timestamp": 1733149600566,
     "user": {
      "displayName": "Gede Satyamahinsa",
      "userId": "02136924592616545895"
     },
     "user_tz": -420
    },
    "id": "mFV9y5HOvPwp",
    "outputId": "bf31c28f-3dd0-4922-ca94-7c30a0e3f0b8"
   },
   "outputs": [
    {
     "data": {
      "image/png": "[encoded data removed]",
      "text/plain": [
       "<Figure size 640x480 with 1 Axes>"
      ]
     },
     "metadata": {},
     "output_type": "display_data"
    }
   ],
   "source": [
    "sns.histplot(x='Na_to_K', data=df, bins=20, kde=False, color='blue')\n",
    "plt.title('Distribution of Sodium to Potassium Ratio')\n",
    "plt.xlabel('Sodium to Potassium Ratio')\n",
    "plt.ylabel('Frequency')\n",
    "plt.grid(True)\n",
    "\n",
    "plt.tight_layout()\n",
    "plt.show()"
   ]
  },
  {
   "cell_type": "markdown",
   "metadata": {
    "id": "j_YKSVT7s-Ex"
   },
   "source": [
    "The diagram shows that most patients have a lower sodium to potassium ratio, with the majority of values concentrated below **19.38**. This distribution may suggest a focus on maintaining balanced sodium and potassium levels in the study's population and further analysis could help identify any correlations with drug prescriptions or other health conditions."
   ]
  },
  {
   "cell_type": "markdown",
   "metadata": {
    "id": "epaHNjJHvYmn"
   },
   "source": [
    "Drug"
   ]
  },
  {
   "cell_type": "code",
   "execution_count": 553,
   "metadata": {
    "colab": {
     "base_uri": "https://localhost:8080/",
     "height": 487
    },
    "executionInfo": {
     "elapsed": 1231,
     "status": "ok",
     "timestamp": 1733149601793,
     "user": {
      "displayName": "Gede Satyamahinsa",
      "userId": "02136924592616545895"
     },
     "user_tz": -420
    },
    "id": "t8D9VMVEvXC6",
    "outputId": "115cbcbf-5768-4dad-aaa6-c06fa0eacd1b"
   },
   "outputs": [
    {
     "data": {
      "image/png": "[encoded data removed]",
      "text/plain": [
       "<Figure size 640x480 with 1 Axes>"
      ]
     },
     "metadata": {},
     "output_type": "display_data"
    }
   ],
   "source": [
    "sns.countplot(x='Drug', data=df, order=df['Drug'].value_counts().index, color='blue')\n",
    "plt.title('Distribution of Drug Types')\n",
    "plt.xlabel('Drug Type')\n",
    "plt.ylabel('Count')\n",
    "\n",
    "plt.tight_layout()\n",
    "plt.show()"
   ]
  },
  {
   "cell_type": "markdown",
   "metadata": {
    "id": "qFIgvqU3uM7I"
   },
   "source": [
    "The dataset is dominated by **DrugY**, which could indicate its high efficacy, popularity, or preference among healthcare providers. Other drug types, such as **DrugX**, **DrugA**, **DrugC**, and **DrugB**, are less common, with **DrugY** being significantly more prevalent. The distribution shows that while other drugs are used, **DrugY** is the most prevalent, which may provide insights into treatment trends and drug effectiveness."
   ]
  },
  {
   "cell_type": "markdown",
   "metadata": {
    "id": "612hgkNRWoe_"
   },
   "source": [
    "### Bivariate Analysis"
   ]
  },
  {
   "cell_type": "markdown",
   "metadata": {
    "id": "nW515VZOZPoc"
   },
   "source": [
    "Age vs Drug Type"
   ]
  },
  {
   "cell_type": "code",
   "execution_count": 554,
   "metadata": {
    "colab": {
     "base_uri": "https://localhost:8080/",
     "height": 487
    },
    "executionInfo": {
     "elapsed": 11,
     "status": "ok",
     "timestamp": 1733149601793,
     "user": {
      "displayName": "Gede Satyamahinsa",
      "userId": "02136924592616545895"
     },
     "user_tz": -420
    },
    "id": "kSTC7okwvb0W",
    "outputId": "2f8e3240-f69f-4b1f-9a84-8da7bfa0add2"
   },
   "outputs": [
    {
     "data": {
      "image/png": "[encoded data removed]",
      "text/plain": [
       "<Figure size 640x480 with 1 Axes>"
      ]
     },
     "metadata": {},
     "output_type": "display_data"
    }
   ],
   "source": [
    "sns.boxplot(x='Drug', y='Age', data=df, color='blue')\n",
    "plt.title('Age Distribution by Drug Type')\n",
    "plt.xlabel('Drug Type')\n",
    "plt.ylabel('Age')\n",
    "\n",
    "plt.tight_layout()\n",
    "plt.show()"
   ]
  },
  {
   "cell_type": "markdown",
   "metadata": {
    "id": "gjd_Di79abbW"
   },
   "source": [
    "Based on the graph above, patients using **DrugY**, **DrugC**, **DrugX**, and **DrugA** have an age range of around 30 - 60 years. The interesting part is that **DrugB** was used by patients with a range of 60 - 70 years. This makes **DrugB** seem to be specialized only by people who have an advanced age. These findings suggest that drug usage patterns vary significantly with age, influenced by factors such as lifestyle, health, and socio-economic conditions, emphasizing the need for targeted, age-specific health interventions and prevention strategies."
   ]
  },
  {
   "cell_type": "markdown",
   "metadata": {
    "id": "nr5OYvXyb3Ln"
   },
   "source": [
    "Sex vs Drug Type"
   ]
  },
  {
   "cell_type": "code",
   "execution_count": 555,
   "metadata": {
    "colab": {
     "base_uri": "https://localhost:8080/",
     "height": 487
    },
    "executionInfo": {
     "elapsed": 1488,
     "status": "ok",
     "timestamp": 1733149603271,
     "user": {
      "displayName": "Gede Satyamahinsa",
      "userId": "02136924592616545895"
     },
     "user_tz": -420
    },
    "id": "WJ5Afz1oZZTz",
    "outputId": "b81650ca-7443-4bac-ae8a-cbf74438f947"
   },
   "outputs": [
    {
     "data": {
      "image/png": "[encoded data removed]",
      "text/plain": [
       "<Figure size 640x480 with 1 Axes>"
      ]
     },
     "metadata": {},
     "output_type": "display_data"
    }
   ],
   "source": [
    "sns.countplot(x='Drug', hue='Sex', data=df, palette='tab10')\n",
    "plt.title('Distribution of Drug Types by Gender')\n",
    "plt.xlabel('Drug Type')\n",
    "plt.ylabel('Count')\n",
    "plt.legend(title='Gender', loc='upper right')\n",
    "\n",
    "plt.tight_layout()\n",
    "plt.show()"
   ]
  },
  {
   "cell_type": "markdown",
   "metadata": {
    "id": "vVZx0yBSc4aB"
   },
   "source": [
    "The graph can observe clear differences in drug usage between males and females for various drug types. For instance, **DrugA** has a significantly higher usage among males compared to females. This suggests that **DrugA** is predominantly used by males in the dataset. On the other hand, **DrugX** shows a more balanced distribution, with similar bar heights for both sexes, indicating that both males and females use this drug type at almost equal rates. Conversely, **DrugC**, **DrugA**, and **DrugB** appears to be more common among females, implying a higher prevalence or association of this drug with females. These patterns highlight gender-specific trends in drug usage, where certain drugs are more likely to be used by one sex over the other, suggesting potential underlying factors such as social, cultural, or behavioral influences that could be further explored to inform gender-targeted interventions in public health programs."
   ]
  },
  {
   "cell_type": "markdown",
   "metadata": {
    "id": "TXG8a-mXfmn5"
   },
   "source": [
    "BP (Blood Pressure) vs Drug Type"
   ]
  },
  {
   "cell_type": "code",
   "execution_count": 556,
   "metadata": {
    "colab": {
     "base_uri": "https://localhost:8080/",
     "height": 487
    },
    "executionInfo": {
     "elapsed": 1367,
     "status": "ok",
     "timestamp": 1733149604636,
     "user": {
      "displayName": "Gede Satyamahinsa",
      "userId": "02136924592616545895"
     },
     "user_tz": -420
    },
    "id": "h35Ogt6XcCDd",
    "outputId": "83d578a9-9ac4-402e-f852-5ff871f98980"
   },
   "outputs": [
    {
     "data": {
      "image/png": "[encoded data removed]",
      "text/plain": [
       "<Figure size 640x480 with 1 Axes>"
      ]
     },
     "metadata": {},
     "output_type": "display_data"
    }
   ],
   "source": [
    "# graph with bivariate analysis between bp (blood pressure) vs drug type\n",
    "sns.countplot(x='Drug', hue='BP', data=df, palette='tab10')\n",
    "plt.title('Distribution of Drug Types by Blood Pressure Levels')\n",
    "plt.xlabel('Drug Type')\n",
    "plt.ylabel('Count')\n",
    "plt.legend(title='Blood Pressure Level', loc='upper right')\n",
    "\n",
    "plt.tight_layout()\n",
    "plt.show()"
   ]
  },
  {
   "cell_type": "markdown",
   "metadata": {
    "id": "8sCiiKAfgps9"
   },
   "source": [
    "Based on the graph above, **DrugY** has a variety of blood pressure levels that include 3 types starting from the most, namely high, low, and normal. Likewise, **DrugX** has 2 variations of blood pressure levels, starting from the most, namely normal and low. Meanwhile, other types of drugs, such as **DrugC** only have a low blood pressure level variation, **DrugA** and **DrugB** have a high blood pressure level variation only. The data highlights a clear relationship between BP levels and drug usage, with certain drugs being more prevalent in individuals with specific BP conditions, underlining the need for targeted treatments and interventions based on blood pressure status."
   ]
  },
  {
   "cell_type": "markdown",
   "metadata": {
    "id": "CCCcRkJOiaSP"
   },
   "source": [
    "Cholesterol vs Drug Type"
   ]
  },
  {
   "cell_type": "code",
   "execution_count": 557,
   "metadata": {
    "colab": {
     "base_uri": "https://localhost:8080/",
     "height": 487
    },
    "executionInfo": {
     "elapsed": 1080,
     "status": "ok",
     "timestamp": 1733149605713,
     "user": {
      "displayName": "Gede Satyamahinsa",
      "userId": "02136924592616545895"
     },
     "user_tz": -420
    },
    "id": "gE3EyRyUi3KE",
    "outputId": "ee06e5e3-0653-4224-b9d4-65748c3bc21f"
   },
   "outputs": [
    {
     "data": {
      "image/png": "[encoded data removed]",
      "text/plain": [
       "<Figure size 640x480 with 1 Axes>"
      ]
     },
     "metadata": {},
     "output_type": "display_data"
    }
   ],
   "source": [
    "sns.countplot(x='Drug', hue='Cholesterol', data=df, palette='tab10')\n",
    "plt.title('Distribution of Drug Types by Cholesterol Levels')\n",
    "plt.xlabel('Drug Type')\n",
    "plt.ylabel('Count')\n",
    "plt.legend(title='Cholesterol Level', loc='upper right')\n",
    "\n",
    "plt.tight_layout()\n",
    "plt.show()"
   ]
  },
  {
   "cell_type": "markdown",
   "metadata": {
    "id": "isRdPk0Ijcyx"
   },
   "source": [
    "In the graph, **DrugY** and **DrugA** have a predominance of high cholesterol levels that are more than normal. Meanwhile, **DrugX** has the opposite dominance to the previous 2 drugs, with more normal cholesterol levels than high. **DrugB** only appeared to be balanced across the 2 cholesterol levels. The interesting part is **DrugC** which only has 1 cholesterol level, which is high. These trends indicate that cholesterol levels strongly influence the type of drug used, emphasizing the importance of considering cholesterol status when prescribing treatments or planning interventions related to cardiovascular health."
   ]
  },
  {
   "cell_type": "markdown",
   "metadata": {
    "id": "7l_iN7mbm0IT"
   },
   "source": [
    "Na_to_K vs Drug Type"
   ]
  },
  {
   "cell_type": "code",
   "execution_count": 558,
   "metadata": {
    "colab": {
     "base_uri": "https://localhost:8080/",
     "height": 487
    },
    "executionInfo": {
     "elapsed": 16,
     "status": "ok",
     "timestamp": 1733149605713,
     "user": {
      "displayName": "Gede Satyamahinsa",
      "userId": "02136924592616545895"
     },
     "user_tz": -420
    },
    "id": "tHT0-i7WjVtX",
    "outputId": "aebe689a-26de-452f-9d18-c372ccd09e35"
   },
   "outputs": [
    {
     "data": {
      "image/png": "[encoded data removed]",
      "text/plain": [
       "<Figure size 640x480 with 1 Axes>"
      ]
     },
     "metadata": {},
     "output_type": "display_data"
    }
   ],
   "source": [
    "# graph with bivariate analysis between Na_to_K vs Drug Type\n",
    "sns.boxplot(x='Drug', y='Na_to_K', data=df, color='blue')\n",
    "plt.title('Sodium to Potassium Ratio Distribution by Drug Type')\n",
    "plt.xlabel('Drug Type')\n",
    "plt.ylabel('Sodium to Potassium Ratio')\n",
    "\n",
    "plt.tight_layout()\n",
    "plt.show()"
   ]
  },
  {
   "cell_type": "markdown",
   "metadata": {
    "id": "wUKgw-4OnWFZ"
   },
   "source": [
    "Based on the graph above, **DrugC** has outliers in the dataset. In addition, **DrugC**, **DrugX**, **DrugA**, and **DrugB** have the same and low range of values in each drug. Meanwhile, **DrugY** has a range of values that is quite high and different from other drugs. This difference in the range of values for **DrugY** reflects its greater versatility or popularity compared to the other drugs in the dataset."
   ]
  },
  {
   "cell_type": "markdown",
   "metadata": {
    "id": "QNG5Z9qzpqJR"
   },
   "source": [
    "## Data Preparation"
   ]
  },
  {
   "cell_type": "code",
   "execution_count": 559,
   "metadata": {
    "executionInfo": {
     "elapsed": 320,
     "status": "ok",
     "timestamp": 1733149689351,
     "user": {
      "displayName": "Gede Satyamahinsa",
      "userId": "02136924592616545895"
     },
     "user_tz": -420
    },
    "id": "sJ9-RlLQxLL6"
   },
   "outputs": [],
   "source": [
    "from sklearn.preprocessing import LabelEncoder\n",
    "\n",
    "le = LabelEncoder()\n",
    "df['Sex'] = le.fit_transform(df['Sex'])\n",
    "df['BP'] = le.fit_transform(df['BP'])\n",
    "df['Cholesterol'] = le.fit_transform(df['Cholesterol'])\n",
    "df['Drug'] = le.fit_transform(df['Drug'])"
   ]
  },
  {
   "cell_type": "markdown",
   "metadata": {},
   "source": [
    "The **LabelEncoder** selected for `Sex`, `BP`, `Cholesterol`, and `Drug` features will convert each category in the feature into a number. In addition, the Label Encoder will also retain the order information of each feature in numerical representation."
   ]
  },
  {
   "cell_type": "code",
   "execution_count": 560,
   "metadata": {},
   "outputs": [],
   "source": [
    "from sklearn.preprocessing import StandardScaler\n",
    "\n",
    "scaler = StandardScaler()\n",
    "numerical_columns = ['Age', 'Sex', 'BP', 'Cholesterol', 'Na_to_K']\n",
    "df[numerical_columns] = scaler.fit_transform(df[numerical_columns])"
   ]
  },
  {
   "cell_type": "markdown",
   "metadata": {},
   "source": [
    "The use of **StandardScaler** was chosen after conducting experiments during the training process, which showed that the results were better than the use of **MinMaxScaler**"
   ]
  },
  {
   "cell_type": "code",
   "execution_count": 561,
   "metadata": {},
   "outputs": [
    {
     "data": {
      "text/html": [
       "<div>\n",
       "<style scoped>\n",
       "    .dataframe tbody tr th:only-of-type {\n",
       "        vertical-align: middle;\n",
       "    }\n",
       "\n",
       "    .dataframe tbody tr th {\n",
       "        vertical-align: top;\n",
       "    }\n",
       "\n",
       "    .dataframe thead th {\n",
       "        text-align: right;\n",
       "    }\n",
       "</style>\n",
       "<table border=\"1\" class=\"dataframe\">\n",
       "  <thead>\n",
       "    <tr style=\"text-align: right;\">\n",
       "      <th></th>\n",
       "      <th>Age</th>\n",
       "      <th>Sex</th>\n",
       "      <th>BP</th>\n",
       "      <th>Cholesterol</th>\n",
       "      <th>Na_to_K</th>\n",
       "      <th>Drug</th>\n",
       "    </tr>\n",
       "  </thead>\n",
       "  <tbody>\n",
       "    <tr>\n",
       "      <th>0</th>\n",
       "      <td>-1.291591</td>\n",
       "      <td>-1.040833</td>\n",
       "      <td>-1.110169</td>\n",
       "      <td>-0.970437</td>\n",
       "      <td>1.286522</td>\n",
       "      <td>0</td>\n",
       "    </tr>\n",
       "    <tr>\n",
       "      <th>1</th>\n",
       "      <td>0.162699</td>\n",
       "      <td>0.960769</td>\n",
       "      <td>0.109797</td>\n",
       "      <td>-0.970437</td>\n",
       "      <td>-0.415145</td>\n",
       "      <td>3</td>\n",
       "    </tr>\n",
       "    <tr>\n",
       "      <th>2</th>\n",
       "      <td>0.162699</td>\n",
       "      <td>0.960769</td>\n",
       "      <td>0.109797</td>\n",
       "      <td>-0.970437</td>\n",
       "      <td>-0.828558</td>\n",
       "      <td>3</td>\n",
       "    </tr>\n",
       "    <tr>\n",
       "      <th>3</th>\n",
       "      <td>-0.988614</td>\n",
       "      <td>-1.040833</td>\n",
       "      <td>1.329763</td>\n",
       "      <td>-0.970437</td>\n",
       "      <td>-1.149963</td>\n",
       "      <td>4</td>\n",
       "    </tr>\n",
       "    <tr>\n",
       "      <th>4</th>\n",
       "      <td>1.011034</td>\n",
       "      <td>-1.040833</td>\n",
       "      <td>0.109797</td>\n",
       "      <td>-0.970437</td>\n",
       "      <td>0.271794</td>\n",
       "      <td>0</td>\n",
       "    </tr>\n",
       "  </tbody>\n",
       "</table>\n",
       "</div>"
      ],
      "text/plain": [
       "        Age       Sex        BP  Cholesterol   Na_to_K  Drug\n",
       "0 -1.291591 -1.040833 -1.110169    -0.970437  1.286522     0\n",
       "1  0.162699  0.960769  0.109797    -0.970437 -0.415145     3\n",
       "2  0.162699  0.960769  0.109797    -0.970437 -0.828558     3\n",
       "3 -0.988614 -1.040833  1.329763    -0.970437 -1.149963     4\n",
       "4  1.011034 -1.040833  0.109797    -0.970437  0.271794     0"
      ]
     },
     "execution_count": 561,
     "metadata": {},
     "output_type": "execute_result"
    }
   ],
   "source": [
    "df.head()"
   ]
  },
  {
   "cell_type": "markdown",
   "metadata": {},
   "source": [
    "Correlation Between Features"
   ]
  },
  {
   "cell_type": "code",
   "execution_count": 562,
   "metadata": {},
   "outputs": [
    {
     "data": {
      "image/png": "[encoded data removed]",
      "text/plain": [
       "<Figure size 1200x600 with 2 Axes>"
      ]
     },
     "metadata": {},
     "output_type": "display_data"
    }
   ],
   "source": [
    "plt.figure(figsize=(12, 6))\n",
    "sns.heatmap(df.corr(), annot=True)\n",
    "plt.show()"
   ]
  },
  {
   "cell_type": "markdown",
   "metadata": {},
   "source": [
    "These correlations can help the model to understand the variations in the data better. The correlation between `BP` and `Drug` has the highest positive correlation indicating a linear relationship between the 2 features. On the other hand, the correlation between `Na_to_K` and `Drug` has the highest negative correlation indicating an inverse relationship."
   ]
  },
  {
   "cell_type": "code",
   "execution_count": 563,
   "metadata": {
    "colab": {
     "base_uri": "https://localhost:8080/"
    },
    "executionInfo": {
     "elapsed": 336,
     "status": "ok",
     "timestamp": 1733149775670,
     "user": {
      "displayName": "Gede Satyamahinsa",
      "userId": "02136924592616545895"
     },
     "user_tz": -420
    },
    "id": "dDlDBD50xf0d",
    "outputId": "b4c077b9-8bed-43c9-ec38-22058480be23"
   },
   "outputs": [
    {
     "name": "stdout",
     "output_type": "stream",
     "text": [
      "Shape of X: (200, 5)\n",
      "Shape of y: (200,)\n"
     ]
    }
   ],
   "source": [
    "X = df.drop(columns = ['Drug'], axis=1)\n",
    "y = df['Drug']\n",
    "\n",
    "print('Shape of X:', X.shape)\n",
    "print('Shape of y:', y.shape)"
   ]
  },
  {
   "cell_type": "code",
   "execution_count": null,
   "metadata": {
    "executionInfo": {
     "elapsed": 634,
     "status": "ok",
     "timestamp": 1733149797147,
     "user": {
      "displayName": "Gede Satyamahinsa",
      "userId": "02136924592616545895"
     },
     "user_tz": -420
    },
    "id": "8F3rlYnmxuK3"
   },
   "outputs": [],
   "source": []
  },
  {
   "cell_type": "code",
   "execution_count": 564,
   "metadata": {
    "colab": {
     "base_uri": "https://localhost:8080/"
    },
    "executionInfo": {
     "elapsed": 333,
     "status": "ok",
     "timestamp": 1733150443778,
     "user": {
      "displayName": "Gede Satyamahinsa",
      "userId": "02136924592616545895"
     },
     "user_tz": -420
    },
    "id": "QJvwxl400OJo",
    "outputId": "6c669b84-c8c3-41c5-86fd-bcd817a06fb0"
   },
   "outputs": [
    {
     "name": "stdout",
     "output_type": "stream",
     "text": [
      "Shape of X_train: (160, 5)\n",
      "Shape of y_train: (160,)\n",
      "Shape of X_test: (40, 5)\n",
      "Shape of y_test: (40,)\n"
     ]
    }
   ],
   "source": [
    "from sklearn.model_selection import train_test_split\n",
    "\n",
    "X_train, X_test, y_train, y_test = train_test_split(X, y, test_size = 0.2, random_state = 42)\n",
    "\n",
    "print('Shape of X_train:', X_train.shape)\n",
    "print('Shape of y_train:', y_train.shape)\n",
    "print('Shape of X_test:', X_test.shape)\n",
    "print('Shape of y_test:', y_test.shape)"
   ]
  },
  {
   "cell_type": "markdown",
   "metadata": {
    "id": "yFXWqqFVpsED"
   },
   "source": [
    "## Modeling"
   ]
  },
  {
   "cell_type": "code",
   "execution_count": 565,
   "metadata": {},
   "outputs": [
    {
     "name": "stdout",
     "output_type": "stream",
     "text": [
      "Best hyperparameters: {'n_neighbors': 7, 'weights': 'distance'}\n"
     ]
    }
   ],
   "source": [
    "from sklearn.neighbors import KNeighborsClassifier\n",
    "from sklearn.metrics import accuracy_score, classification_report\n",
    "from sklearn.model_selection import GridSearchCV\n",
    "\n",
    "param_grid = {'n_neighbors': [3, 5, 7, 9], 'weights': ['uniform', 'distance']}\n",
    "\n",
    "grid_search = GridSearchCV(KNeighborsClassifier(), param_grid, cv=5)\n",
    "grid_search.fit(X_train, y_train)\n",
    "\n",
    "print(\"Best hyperparameters:\", grid_search.best_params_)"
   ]
  },
  {
   "cell_type": "markdown",
   "metadata": {},
   "source": [
    "The results of finding the best hyperparameters show that the K-Nearest Neighbors (KNN) model works best by using the n_neighbors parameter of `7` and weights with a value of `distance`. This higher value of `n_neighbors` indicates that the model is better at making predictions by considering more nearest neighbors. In addition, the use of `weights` with a value of `distance` means that the model gives more weight to closer neighbors, so that predictions are more influenced by data points that are more relevant and close to the predicted point."
   ]
  },
  {
   "cell_type": "code",
   "execution_count": 566,
   "metadata": {
    "colab": {
     "base_uri": "https://localhost:8080/",
     "height": 80
    },
    "executionInfo": {
     "elapsed": 340,
     "status": "ok",
     "timestamp": 1733150612860,
     "user": {
      "displayName": "Gede Satyamahinsa",
      "userId": "02136924592616545895"
     },
     "user_tz": -420
    },
    "id": "INQQGuRmm8Ys",
    "outputId": "e658d71f-e367-4b29-e514-6a60e68940b6"
   },
   "outputs": [
    {
     "data": {
      "text/html": [
       "<style>#sk-container-id-22 {color: black;background-color: white;}#sk-container-id-22 pre{padding: 0;}#sk-container-id-22 div.sk-toggleable {background-color: white;}#sk-container-id-22 label.sk-toggleable__label {cursor: pointer;display: block;width: 100%;margin-bottom: 0;padding: 0.3em;box-sizing: border-box;text-align: center;}#sk-container-id-22 label.sk-toggleable__label-arrow:before {content: \"▸\";float: left;margin-right: 0.25em;color: #696969;}#sk-container-id-22 label.sk-toggleable__label-arrow:hover:before {color: black;}#sk-container-id-22 div.sk-estimator:hover label.sk-toggleable__label-arrow:before {color: black;}#sk-container-id-22 div.sk-toggleable__content {max-height: 0;max-width: 0;overflow: hidden;text-align: left;background-color: #f0f8ff;}#sk-container-id-22 div.sk-toggleable__content pre {margin: 0.2em;color: black;border-radius: 0.25em;background-color: #f0f8ff;}#sk-container-id-22 input.sk-toggleable__control:checked~div.sk-toggleable__content {max-height: 200px;max-width: 100%;overflow: auto;}#sk-container-id-22 input.sk-toggleable__control:checked~label.sk-toggleable__label-arrow:before {content: \"▾\";}#sk-container-id-22 div.sk-estimator input.sk-toggleable__control:checked~label.sk-toggleable__label {background-color: #d4ebff;}#sk-container-id-22 div.sk-label input.sk-toggleable__control:checked~label.sk-toggleable__label {background-color: #d4ebff;}#sk-container-id-22 input.sk-hidden--visually {border: 0;clip: rect(1px 1px 1px 1px);clip: rect(1px, 1px, 1px, 1px);height: 1px;margin: -1px;overflow: hidden;padding: 0;position: absolute;width: 1px;}#sk-container-id-22 div.sk-estimator {font-family: monospace;background-color: #f0f8ff;border: 1px dotted black;border-radius: 0.25em;box-sizing: border-box;margin-bottom: 0.5em;}#sk-container-id-22 div.sk-estimator:hover {background-color: #d4ebff;}#sk-container-id-22 div.sk-parallel-item::after {content: \"\";width: 100%;border-bottom: 1px solid gray;flex-grow: 1;}#sk-container-id-22 div.sk-label:hover label.sk-toggleable__label {background-color: #d4ebff;}#sk-container-id-22 div.sk-serial::before {content: \"\";position: absolute;border-left: 1px solid gray;box-sizing: border-box;top: 0;bottom: 0;left: 50%;z-index: 0;}#sk-container-id-22 div.sk-serial {display: flex;flex-direction: column;align-items: center;background-color: white;padding-right: 0.2em;padding-left: 0.2em;position: relative;}#sk-container-id-22 div.sk-item {position: relative;z-index: 1;}#sk-container-id-22 div.sk-parallel {display: flex;align-items: stretch;justify-content: center;background-color: white;position: relative;}#sk-container-id-22 div.sk-item::before, #sk-container-id-22 div.sk-parallel-item::before {content: \"\";position: absolute;border-left: 1px solid gray;box-sizing: border-box;top: 0;bottom: 0;left: 50%;z-index: -1;}#sk-container-id-22 div.sk-parallel-item {display: flex;flex-direction: column;z-index: 1;position: relative;background-color: white;}#sk-container-id-22 div.sk-parallel-item:first-child::after {align-self: flex-end;width: 50%;}#sk-container-id-22 div.sk-parallel-item:last-child::after {align-self: flex-start;width: 50%;}#sk-container-id-22 div.sk-parallel-item:only-child::after {width: 0;}#sk-container-id-22 div.sk-dashed-wrapped {border: 1px dashed gray;margin: 0 0.4em 0.5em 0.4em;box-sizing: border-box;padding-bottom: 0.4em;background-color: white;}#sk-container-id-22 div.sk-label label {font-family: monospace;font-weight: bold;display: inline-block;line-height: 1.2em;}#sk-container-id-22 div.sk-label-container {text-align: center;}#sk-container-id-22 div.sk-container {/* jupyter's `normalize.less` sets `[hidden] { display: none; }` but bootstrap.min.css set `[hidden] { display: none !important; }` so we also need the `!important` here to be able to override the default hidden behavior on the sphinx rendered scikit-learn.org. See: https://github.com/scikit-learn/scikit-learn/issues/21755 */display: inline-block !important;position: relative;}#sk-container-id-22 div.sk-text-repr-fallback {display: none;}</style><div id=\"sk-container-id-22\" class=\"sk-top-container\"><div class=\"sk-text-repr-fallback\"><pre>KNeighborsClassifier(n_neighbors=7, weights=&#x27;distance&#x27;)</pre><b>In a Jupyter environment, please rerun this cell to show the HTML representation or trust the notebook. <br />On GitHub, the HTML representation is unable to render, please try loading this page with nbviewer.org.</b></div><div class=\"sk-container\" hidden><div class=\"sk-item\"><div class=\"sk-estimator sk-toggleable\"><input class=\"sk-toggleable__control sk-hidden--visually\" id=\"sk-estimator-id-22\" type=\"checkbox\" checked><label for=\"sk-estimator-id-22\" class=\"sk-toggleable__label sk-toggleable__label-arrow\">KNeighborsClassifier</label><div class=\"sk-toggleable__content\"><pre>KNeighborsClassifier(n_neighbors=7, weights=&#x27;distance&#x27;)</pre></div></div></div></div></div>"
      ],
      "text/plain": [
       "KNeighborsClassifier(n_neighbors=7, weights='distance')"
      ]
     },
     "execution_count": 566,
     "metadata": {},
     "output_type": "execute_result"
    }
   ],
   "source": [
    "knn = KNeighborsClassifier(n_neighbors=grid_search.best_params_['n_neighbors'], weights=grid_search.best_params_['weights'])\n",
    "knn.fit(X_train, y_train)"
   ]
  },
  {
   "cell_type": "markdown",
   "metadata": {},
   "source": [
    "## Model Evaluation"
   ]
  },
  {
   "cell_type": "code",
   "execution_count": 567,
   "metadata": {
    "colab": {
     "base_uri": "https://localhost:8080/"
    },
    "executionInfo": {
     "elapsed": 351,
     "status": "ok",
     "timestamp": 1733150715085,
     "user": {
      "displayName": "Gede Satyamahinsa",
      "userId": "02136924592616545895"
     },
     "user_tz": -420
    },
    "id": "D64ATF_M0iP3",
    "outputId": "91d78f52-c153-4699-c115-4af7d81e11e4"
   },
   "outputs": [
    {
     "name": "stdout",
     "output_type": "stream",
     "text": [
      "Accuracy: 95.00%\n",
      "              precision    recall  f1-score   support\n",
      "\n",
      "           0       0.94      1.00      0.97        15\n",
      "           1       1.00      1.00      1.00         6\n",
      "           2       1.00      1.00      1.00         3\n",
      "           3       1.00      0.80      0.89         5\n",
      "           4       0.91      0.91      0.91        11\n",
      "\n",
      "    accuracy                           0.95        40\n",
      "   macro avg       0.97      0.94      0.95        40\n",
      "weighted avg       0.95      0.95      0.95        40\n",
      "\n"
     ]
    }
   ],
   "source": [
    "y_pred = knn.predict(X_test)\n",
    "knn_accuracy = accuracy_score(y_test, y_pred)\n",
    "print('Accuracy: {:.2f}%'.format(knn_accuracy * 100))\n",
    "print(classification_report(y_test, y_pred))"
   ]
  },
  {
   "cell_type": "markdown",
   "metadata": {},
   "source": [
    "The following is the interpretation of the evaluation results:\n",
    "- **Accuracy**: The model accuracy of 95% indicates that most of the predictions were correct. Only about 5% of the overall data was classified incorrectly in determining the medication given to the patient.\n",
    "- **Precision**: High precision indicates that the model tends to predict correctly, especially in classes 1, 2, and 3 which have a precision of 1.00. The precision for classes 0 and 4 were 0.94 and 0.91, respectively. Although the precision is slightly lower, it still shows that where each class is classified it actually matches the class and data owned by the patient.\n",
    "- **Recall**: The excellent recall in classes 0, 1, and 2 shows that the model was able to find almost all positive cases in those classes. In classes 3 and 4, the recall is slightly lower indicating that the model may have missed some positive cases in these classes.\n",
    "- **F1-Score**: F1-score close to 1 for most classes indicates a good balance between precision and recall. "
   ]
  },
  {
   "cell_type": "markdown",
   "metadata": {},
   "source": [
    "## Predict"
   ]
  },
  {
   "cell_type": "code",
   "execution_count": 568,
   "metadata": {
    "colab": {
     "base_uri": "https://localhost:8080/",
     "height": 89
    },
    "executionInfo": {
     "elapsed": 345,
     "status": "ok",
     "timestamp": 1733150902043,
     "user": {
      "displayName": "Gede Satyamahinsa",
      "userId": "02136924592616545895"
     },
     "user_tz": -420
    },
    "id": "OIBGTNsU09Id",
    "outputId": "8f5a81da-ff1f-4e28-c58b-328b0a211cc4"
   },
   "outputs": [
    {
     "data": {
      "text/html": [
       "<div>\n",
       "<style scoped>\n",
       "    .dataframe tbody tr th:only-of-type {\n",
       "        vertical-align: middle;\n",
       "    }\n",
       "\n",
       "    .dataframe tbody tr th {\n",
       "        vertical-align: top;\n",
       "    }\n",
       "\n",
       "    .dataframe thead th {\n",
       "        text-align: right;\n",
       "    }\n",
       "</style>\n",
       "<table border=\"1\" class=\"dataframe\">\n",
       "  <thead>\n",
       "    <tr style=\"text-align: right;\">\n",
       "      <th></th>\n",
       "      <th>Age</th>\n",
       "      <th>Sex</th>\n",
       "      <th>BP</th>\n",
       "      <th>Cholesterol</th>\n",
       "      <th>Na_to_K</th>\n",
       "    </tr>\n",
       "  </thead>\n",
       "  <tbody>\n",
       "    <tr>\n",
       "      <th>0</th>\n",
       "      <td>37</td>\n",
       "      <td>0</td>\n",
       "      <td>1</td>\n",
       "      <td>0</td>\n",
       "      <td>33.1</td>\n",
       "    </tr>\n",
       "  </tbody>\n",
       "</table>\n",
       "</div>"
      ],
      "text/plain": [
       "   Age  Sex  BP  Cholesterol  Na_to_K\n",
       "0   37    0   1            0     33.1"
      ]
     },
     "execution_count": 568,
     "metadata": {},
     "output_type": "execute_result"
    }
   ],
   "source": [
    "testing = {\n",
    "    'Age': [37],\n",
    "    'Sex': [0],\n",
    "    'BP': [1],\n",
    "    'Cholesterol': [0],\n",
    "    'Na_to_K': [33.1]\n",
    "}\n",
    "\n",
    "testing_df = pd.DataFrame(testing)\n",
    "testing_df"
   ]
  },
  {
   "cell_type": "code",
   "execution_count": 569,
   "metadata": {
    "colab": {
     "base_uri": "https://localhost:8080/"
    },
    "executionInfo": {
     "elapsed": 451,
     "status": "ok",
     "timestamp": 1733150904153,
     "user": {
      "displayName": "Gede Satyamahinsa",
      "userId": "02136924592616545895"
     },
     "user_tz": -420
    },
    "id": "FkFTbTeO1xc5",
    "outputId": "f03e2d8d-bdb7-484d-e099-cd5d1138e39c"
   },
   "outputs": [
    {
     "name": "stdout",
     "output_type": "stream",
     "text": [
      "Predicted Drug Type: DrugY\n"
     ]
    }
   ],
   "source": [
    "prediction = knn.predict(testing_df)\n",
    "print('Predicted Drug Type:', le.inverse_transform(prediction)[0])"
   ]
  },
  {
   "cell_type": "markdown",
   "metadata": {},
   "source": [
    "## Conclusion"
   ]
  },
  {
   "cell_type": "markdown",
   "metadata": {},
   "source": [
    "The K-Nearest Neighbors (KNN) model developed for drug classification on the *Drug Classification* dataset demonstrates exceptional performance with an accuracy rate of **95%**. Below are the key conclusions derived from this project:\n",
    "\n",
    "1. **Model Effectiveness**  \n",
    "   The high accuracy indicates that the model effectively provides accurate predictions for the majority of the data, making it a reliable solution for assisting drug recommendation processes based on patient characteristics.\n",
    "\n",
    "2. **Use of Optimal Parameters**  \n",
    "   The choice of optimal parameters (`n_neighbors = 7` and `weights = distance`) enhances the model’s ability to deliver relevant predictions. Considering more neighbors and weighting based on distance positively influenced the model's accuracy.\n",
    "\n",
    "3. **Reliability Across Drug Classes**  \n",
    "   - **Precision**: The high precision (up to 1.00 for some classes) shows that the model rarely misclassifies drug types, especially for drug classes with distinctive patient characteristics.\n",
    "   - **Recall**: Strong recall in most classes demonstrates the model's capability to identify positive cases effectively. However, slight reductions in recall for classes 3 and 4 indicate room for improving the model's sensitivity in those areas.\n",
    "\n",
    "4. **Prediction Balance**  \n",
    "   The F1-scores, which are close to 1 for most classes indicate a good balance between precision and recall. This means the model minimizes errors while recognizing variations within the data effectively.\n",
    "\n",
    "5. **Clinical Benefits**  \n",
    "   The model contributes significantly to personalized medicine by helping medical professionals make data-driven decisions more quickly and accurately. By reducing reliance on manual processes, it enhances efficiency in diagnosing and recommending medications.\n"
   ]
  }
 ],
 "metadata": {
  "colab": {
   "authorship_tag": "ABX9TyOVZJCdyIIl+df47yzF2SCz",
   "mount_file_id": "1nfVyw1vh78NreQKxto-pvknkd4zr5v9Y",
   "provenance": []
  },
  "kernelspec": {
   "display_name": "Python 3",
   "name": "python3"
  },
  "language_info": {
   "codemirror_mode": {
    "name": "ipython",
    "version": 3
   },
   "file_extension": ".py",
   "mimetype": "text/x-python",
   "name": "python",
   "nbconvert_exporter": "python",
   "pygments_lexer": "ipython3",
   "version": "3.11.3"
  }
 },
 "nbformat": 4,
 "nbformat_minor": 0
}
