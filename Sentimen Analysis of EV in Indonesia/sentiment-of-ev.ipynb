{
 "cells": [
  {
   "cell_type": "markdown",
   "metadata": {},
   "source": [
    "# Sentiment Analysis of EV in Indonesia"
   ]
  },
  {
   "cell_type": "markdown",
   "metadata": {},
   "source": [
    "## Import Library"
   ]
  },
  {
   "cell_type": "code",
   "execution_count": 1,
   "metadata": {},
   "outputs": [],
   "source": [
    "import pandas as pd\n",
    "import numpy as np\n",
    "import matplotlib.pyplot as plt\n",
    "import seaborn as sns"
   ]
  },
  {
   "cell_type": "markdown",
   "metadata": {},
   "source": [
    "## Data Understanding"
   ]
  },
  {
   "cell_type": "code",
   "execution_count": 2,
   "metadata": {},
   "outputs": [
    {
     "data": {
      "text/html": [
       "<div>\n",
       "<style scoped>\n",
       "    .dataframe tbody tr th:only-of-type {\n",
       "        vertical-align: middle;\n",
       "    }\n",
       "\n",
       "    .dataframe tbody tr th {\n",
       "        vertical-align: top;\n",
       "    }\n",
       "\n",
       "    .dataframe thead th {\n",
       "        text-align: right;\n",
       "    }\n",
       "</style>\n",
       "<table border=\"1\" class=\"dataframe\">\n",
       "  <thead>\n",
       "    <tr style=\"text-align: right;\">\n",
       "      <th></th>\n",
       "      <th>id_komentar</th>\n",
       "      <th>nama_akun</th>\n",
       "      <th>tanggal</th>\n",
       "      <th>text_cleaning</th>\n",
       "      <th>sentimen</th>\n",
       "    </tr>\n",
       "  </thead>\n",
       "  <tbody>\n",
       "    <tr>\n",
       "      <th>0</th>\n",
       "      <td>Ugzbll5eyrIy3-gdUUJ4AaABAg</td>\n",
       "      <td>Sqn Ldr</td>\n",
       "      <td>2023-08-06 12:54:49+00:00</td>\n",
       "      <td>saran sih bikin   harga ionic sama kayak brio ...</td>\n",
       "      <td>positif</td>\n",
       "    </tr>\n",
       "    <tr>\n",
       "      <th>1</th>\n",
       "      <td>UgzEDUiV3OTrV943p8p4AaABAg</td>\n",
       "      <td>lushen ace</td>\n",
       "      <td>2023-08-04 12:16:23+00:00</td>\n",
       "      <td>problem subsidi kualitas diturunin harga dinai...</td>\n",
       "      <td>negatif</td>\n",
       "    </tr>\n",
       "    <tr>\n",
       "      <th>2</th>\n",
       "      <td>UgwqJqu6JMF4EH2CsVV4AaABAg</td>\n",
       "      <td>Fatih Al-Ayyubi</td>\n",
       "      <td>2023-08-04 10:17:57+00:00</td>\n",
       "      <td>baik kualitas kembang dulu baik kualitas motor...</td>\n",
       "      <td>positif</td>\n",
       "    </tr>\n",
       "    <tr>\n",
       "      <th>3</th>\n",
       "      <td>UgyYicCMR1rKwuOj2Y14AaABAg</td>\n",
       "      <td>yp office</td>\n",
       "      <td>2023-08-04 08:29:54+00:00</td>\n",
       "      <td>model jelek kwalitas buruk harga mahal croot</td>\n",
       "      <td>negatif</td>\n",
       "    </tr>\n",
       "    <tr>\n",
       "      <th>4</th>\n",
       "      <td>UgxKAcLuAwZOQK6es-x4AaABAg</td>\n",
       "      <td>Lembur Kuring</td>\n",
       "      <td>2023-08-04 07:55:37+00:00</td>\n",
       "      <td>syarat   ngaco woy anak muda   blom punya ruma...</td>\n",
       "      <td>negatif</td>\n",
       "    </tr>\n",
       "  </tbody>\n",
       "</table>\n",
       "</div>"
      ],
      "text/plain": [
       "                  id_komentar        nama_akun                    tanggal  \\\n",
       "0  Ugzbll5eyrIy3-gdUUJ4AaABAg          Sqn Ldr  2023-08-06 12:54:49+00:00   \n",
       "1  UgzEDUiV3OTrV943p8p4AaABAg       lushen ace  2023-08-04 12:16:23+00:00   \n",
       "2  UgwqJqu6JMF4EH2CsVV4AaABAg  Fatih Al-Ayyubi  2023-08-04 10:17:57+00:00   \n",
       "3  UgyYicCMR1rKwuOj2Y14AaABAg        yp office  2023-08-04 08:29:54+00:00   \n",
       "4  UgxKAcLuAwZOQK6es-x4AaABAg    Lembur Kuring  2023-08-04 07:55:37+00:00   \n",
       "\n",
       "                                       text_cleaning sentimen  \n",
       "0  saran sih bikin   harga ionic sama kayak brio ...  positif  \n",
       "1  problem subsidi kualitas diturunin harga dinai...  negatif  \n",
       "2  baik kualitas kembang dulu baik kualitas motor...  positif  \n",
       "3       model jelek kwalitas buruk harga mahal croot  negatif  \n",
       "4  syarat   ngaco woy anak muda   blom punya ruma...  negatif  "
      ]
     },
     "execution_count": 2,
     "metadata": {},
     "output_type": "execute_result"
    }
   ],
   "source": [
    "df = pd.read_csv('./datasets/mobil_listrik.csv')\n",
    "df.head()"
   ]
  },
  {
   "cell_type": "code",
   "execution_count": 3,
   "metadata": {},
   "outputs": [
    {
     "name": "stdout",
     "output_type": "stream",
     "text": [
      "<class 'pandas.core.frame.DataFrame'>\n",
      "RangeIndex: 1517 entries, 0 to 1516\n",
      "Data columns (total 5 columns):\n",
      " #   Column         Non-Null Count  Dtype \n",
      "---  ------         --------------  ----- \n",
      " 0   id_komentar    1517 non-null   object\n",
      " 1   nama_akun      1516 non-null   object\n",
      " 2   tanggal        1517 non-null   object\n",
      " 3   text_cleaning  1515 non-null   object\n",
      " 4   sentimen       1517 non-null   object\n",
      "dtypes: object(5)\n",
      "memory usage: 59.4+ KB\n"
     ]
    }
   ],
   "source": [
    "df.info()"
   ]
  },
  {
   "cell_type": "code",
   "execution_count": 5,
   "metadata": {},
   "outputs": [
    {
     "data": {
      "text/plain": [
       "id_komentar      0\n",
       "nama_akun        0\n",
       "tanggal          0\n",
       "text_cleaning    0\n",
       "sentimen         0\n",
       "dtype: int64"
      ]
     },
     "execution_count": 5,
     "metadata": {},
     "output_type": "execute_result"
    }
   ],
   "source": [
    "df = df.dropna()\n",
    "df.isnull().sum()"
   ]
  },
  {
   "cell_type": "code",
   "execution_count": 6,
   "metadata": {},
   "outputs": [
    {
     "data": {
      "text/plain": [
       "0"
      ]
     },
     "execution_count": 6,
     "metadata": {},
     "output_type": "execute_result"
    }
   ],
   "source": [
    "df.duplicated().sum()"
   ]
  },
  {
   "cell_type": "code",
   "execution_count": 7,
   "metadata": {},
   "outputs": [
    {
     "data": {
      "text/html": [
       "<div>\n",
       "<style scoped>\n",
       "    .dataframe tbody tr th:only-of-type {\n",
       "        vertical-align: middle;\n",
       "    }\n",
       "\n",
       "    .dataframe tbody tr th {\n",
       "        vertical-align: top;\n",
       "    }\n",
       "\n",
       "    .dataframe thead th {\n",
       "        text-align: right;\n",
       "    }\n",
       "</style>\n",
       "<table border=\"1\" class=\"dataframe\">\n",
       "  <thead>\n",
       "    <tr style=\"text-align: right;\">\n",
       "      <th></th>\n",
       "      <th>id_komentar</th>\n",
       "      <th>nama_akun</th>\n",
       "      <th>tanggal</th>\n",
       "      <th>text_cleaning</th>\n",
       "      <th>sentimen</th>\n",
       "    </tr>\n",
       "  </thead>\n",
       "  <tbody>\n",
       "    <tr>\n",
       "      <th>count</th>\n",
       "      <td>1514</td>\n",
       "      <td>1514</td>\n",
       "      <td>1514</td>\n",
       "      <td>1514</td>\n",
       "      <td>1514</td>\n",
       "    </tr>\n",
       "    <tr>\n",
       "      <th>unique</th>\n",
       "      <td>1514</td>\n",
       "      <td>1513</td>\n",
       "      <td>1511</td>\n",
       "      <td>1513</td>\n",
       "      <td>3</td>\n",
       "    </tr>\n",
       "    <tr>\n",
       "      <th>top</th>\n",
       "      <td>Ugzbll5eyrIy3-gdUUJ4AaABAg</td>\n",
       "      <td>Albert</td>\n",
       "      <td>2023-06-06 14:02:09+00:00</td>\n",
       "      <td>mahal</td>\n",
       "      <td>negatif</td>\n",
       "    </tr>\n",
       "    <tr>\n",
       "      <th>freq</th>\n",
       "      <td>1</td>\n",
       "      <td>2</td>\n",
       "      <td>2</td>\n",
       "      <td>2</td>\n",
       "      <td>868</td>\n",
       "    </tr>\n",
       "  </tbody>\n",
       "</table>\n",
       "</div>"
      ],
      "text/plain": [
       "                       id_komentar nama_akun                    tanggal  \\\n",
       "count                         1514      1514                       1514   \n",
       "unique                        1514      1513                       1511   \n",
       "top     Ugzbll5eyrIy3-gdUUJ4AaABAg    Albert  2023-06-06 14:02:09+00:00   \n",
       "freq                             1         2                          2   \n",
       "\n",
       "       text_cleaning sentimen  \n",
       "count           1514     1514  \n",
       "unique          1513        3  \n",
       "top            mahal  negatif  \n",
       "freq               2      868  "
      ]
     },
     "execution_count": 7,
     "metadata": {},
     "output_type": "execute_result"
    }
   ],
   "source": [
    "df.describe()"
   ]
  },
  {
   "cell_type": "markdown",
   "metadata": {},
   "source": [
    "## Text Preprocessing"
   ]
  },
  {
   "cell_type": "code",
   "execution_count": 8,
   "metadata": {},
   "outputs": [
    {
     "data": {
      "text/html": [
       "<div>\n",
       "<style scoped>\n",
       "    .dataframe tbody tr th:only-of-type {\n",
       "        vertical-align: middle;\n",
       "    }\n",
       "\n",
       "    .dataframe tbody tr th {\n",
       "        vertical-align: top;\n",
       "    }\n",
       "\n",
       "    .dataframe thead th {\n",
       "        text-align: right;\n",
       "    }\n",
       "</style>\n",
       "<table border=\"1\" class=\"dataframe\">\n",
       "  <thead>\n",
       "    <tr style=\"text-align: right;\">\n",
       "      <th></th>\n",
       "      <th>text_cleaning</th>\n",
       "      <th>sentimen</th>\n",
       "    </tr>\n",
       "  </thead>\n",
       "  <tbody>\n",
       "    <tr>\n",
       "      <th>0</th>\n",
       "      <td>saran sih bikin   harga ionic sama kayak brio ...</td>\n",
       "      <td>positif</td>\n",
       "    </tr>\n",
       "    <tr>\n",
       "      <th>1</th>\n",
       "      <td>problem subsidi kualitas diturunin harga dinai...</td>\n",
       "      <td>negatif</td>\n",
       "    </tr>\n",
       "    <tr>\n",
       "      <th>2</th>\n",
       "      <td>baik kualitas kembang dulu baik kualitas motor...</td>\n",
       "      <td>positif</td>\n",
       "    </tr>\n",
       "    <tr>\n",
       "      <th>3</th>\n",
       "      <td>model jelek kwalitas buruk harga mahal croot</td>\n",
       "      <td>negatif</td>\n",
       "    </tr>\n",
       "    <tr>\n",
       "      <th>4</th>\n",
       "      <td>syarat   ngaco woy anak muda   blom punya ruma...</td>\n",
       "      <td>negatif</td>\n",
       "    </tr>\n",
       "  </tbody>\n",
       "</table>\n",
       "</div>"
      ],
      "text/plain": [
       "                                       text_cleaning sentimen\n",
       "0  saran sih bikin   harga ionic sama kayak brio ...  positif\n",
       "1  problem subsidi kualitas diturunin harga dinai...  negatif\n",
       "2  baik kualitas kembang dulu baik kualitas motor...  positif\n",
       "3       model jelek kwalitas buruk harga mahal croot  negatif\n",
       "4  syarat   ngaco woy anak muda   blom punya ruma...  negatif"
      ]
     },
     "execution_count": 8,
     "metadata": {},
     "output_type": "execute_result"
    }
   ],
   "source": [
    "df = df.drop(columns = ['id_komentar', 'nama_akun', 'tanggal'])\n",
    "df.head()"
   ]
  },
  {
   "cell_type": "code",
   "execution_count": 9,
   "metadata": {},
   "outputs": [
    {
     "data": {
      "text/html": [
       "<div>\n",
       "<style scoped>\n",
       "    .dataframe tbody tr th:only-of-type {\n",
       "        vertical-align: middle;\n",
       "    }\n",
       "\n",
       "    .dataframe tbody tr th {\n",
       "        vertical-align: top;\n",
       "    }\n",
       "\n",
       "    .dataframe thead th {\n",
       "        text-align: right;\n",
       "    }\n",
       "</style>\n",
       "<table border=\"1\" class=\"dataframe\">\n",
       "  <thead>\n",
       "    <tr style=\"text-align: right;\">\n",
       "      <th></th>\n",
       "      <th>text_cleaning</th>\n",
       "      <th>sentimen</th>\n",
       "    </tr>\n",
       "  </thead>\n",
       "  <tbody>\n",
       "    <tr>\n",
       "      <th>0</th>\n",
       "      <td>saran sih bikin   harga ionic sama kayak brio ...</td>\n",
       "      <td>positif</td>\n",
       "    </tr>\n",
       "    <tr>\n",
       "      <th>1</th>\n",
       "      <td>problem subsidi kualitas diturunin harga dinai...</td>\n",
       "      <td>negatif</td>\n",
       "    </tr>\n",
       "    <tr>\n",
       "      <th>2</th>\n",
       "      <td>baik kualitas kembang dulu baik kualitas motor...</td>\n",
       "      <td>positif</td>\n",
       "    </tr>\n",
       "    <tr>\n",
       "      <th>3</th>\n",
       "      <td>model jelek kwalitas buruk harga mahal croot</td>\n",
       "      <td>negatif</td>\n",
       "    </tr>\n",
       "    <tr>\n",
       "      <th>4</th>\n",
       "      <td>syarat   ngaco woy anak muda   blom punya ruma...</td>\n",
       "      <td>negatif</td>\n",
       "    </tr>\n",
       "  </tbody>\n",
       "</table>\n",
       "</div>"
      ],
      "text/plain": [
       "                                       text_cleaning sentimen\n",
       "0  saran sih bikin   harga ionic sama kayak brio ...  positif\n",
       "1  problem subsidi kualitas diturunin harga dinai...  negatif\n",
       "2  baik kualitas kembang dulu baik kualitas motor...  positif\n",
       "3       model jelek kwalitas buruk harga mahal croot  negatif\n",
       "4  syarat   ngaco woy anak muda   blom punya ruma...  negatif"
      ]
     },
     "execution_count": 9,
     "metadata": {},
     "output_type": "execute_result"
    }
   ],
   "source": [
    "df['text_cleaning'] = df['text_cleaning'].str.lower()\n",
    "df.head()"
   ]
  },
  {
   "cell_type": "code",
   "execution_count": null,
   "metadata": {},
   "outputs": [],
   "source": [
    "# normalization\n",
    "norm = {\n",
    "    ' alloh ': ' allah ',\n",
    "    ' problem ': ' masalah ',\n",
    "    ' cuan ': ' keuntungan ',\n",
    "    ' kwalitas ': ' kualitas ',\n",
    "    ' ngaco ': ' sembarangan ',\n",
    "    ' batre ': ' baterai ',\n",
    "    ' tehnologi ': ' teknologi ',\n",
    "    ' mmg ': ' memang ',\n",
    "    ' donk ': ' dong ',\n",
    "    ' jd ': ' jadi ',\n",
    "    ' jt ': ' juta ',\n",
    "}"
   ]
  }
 ],
 "metadata": {
  "kernelspec": {
   "display_name": "Python 3",
   "language": "python",
   "name": "python3"
  },
  "language_info": {
   "codemirror_mode": {
    "name": "ipython",
    "version": 3
   },
   "file_extension": ".py",
   "mimetype": "text/x-python",
   "name": "python",
   "nbconvert_exporter": "python",
   "pygments_lexer": "ipython3",
   "version": "3.11.3"
  }
 },
 "nbformat": 4,
 "nbformat_minor": 2
}
